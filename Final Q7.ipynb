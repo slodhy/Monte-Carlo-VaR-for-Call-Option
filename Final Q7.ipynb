{
 "cells": [
  {
   "cell_type": "code",
   "execution_count": 1,
   "id": "dadb675f-4901-432b-a9fc-eeff7f14df01",
   "metadata": {},
   "outputs": [],
   "source": [
    "## import Python libraries and functionality\n",
    "\n",
    "import pandas as pd\n",
    "from scipy import stats\n",
    "import numpy as np\n",
    "import scipy.stats\n",
    "import matplotlib.pyplot as plt\n",
    "from scipy.stats import norm\n"
   ]
  },
  {
   "cell_type": "code",
   "execution_count": 2,
   "id": "43f23eef-45d0-4163-be00-9886cc57cdfa",
   "metadata": {},
   "outputs": [],
   "source": [
    "def get_option_price(S, K, r, T, sigma):\n",
    "        \n",
    "    d1= ((np.log(S/K)) + (r+(sigma**2)/2)*T)/(sigma*(np.sqrt(T)))\n",
    "    d2= d1-(sigma*(np.sqrt(T)))\n",
    "\n",
    "    Nd1= scipy.stats.norm.pdf(d1)\n",
    "    Nd2= scipy.stats.norm.pdf(d2)\n",
    "\n",
    "    calculated_option_price = (S*Nd1) - (K*(np.exp(-r*T))*Nd2)\n",
    "\n",
    "    return calculated_option_price"
   ]
  },
  {
   "cell_type": "code",
   "execution_count": 3,
   "id": "7d0c8117-98c3-4cd2-b5d7-a8424371f8a9",
   "metadata": {},
   "outputs": [],
   "source": [
    "def get_gamma_distributions(rho, iterations, shape, scale):\n",
    "    \n",
    "    Delta_S = stats.gamma(shape, scale,).rvs(iterations)\n",
    "    Delta_temp = stats.gamma(shape, scale,).rvs(iterations)\n",
    "    Delta_Sigma = rho * Delta_S + np.sqrt(1 - rho**2) * Delta_temp\n",
    "    \n",
    "    return Delta_S, Delta_Sigma"
   ]
  },
  {
   "cell_type": "code",
   "execution_count": 4,
   "id": "24817f2a-b02b-4bcd-aa1d-d1938b656d8b",
   "metadata": {},
   "outputs": [],
   "source": [
    "def get_option_price_returns(Delta_S, Delta_Sigma, S, K, r, T, sigma):\n",
    "    \n",
    "    iterations = len(Delta_S)\n",
    "    delta_t = T / 252\n",
    "    S_scenarios = Delta_S * S\n",
    "    sigma_scenarios = Delta_Sigma * sigma\n",
    "    option_price_scenarios = np.zeros(iterations)\n",
    "    \n",
    "    for i in range(0, iterations):\n",
    "        option_price_scenarios[i] = get_option_price(S_scenarios[i], K, r, delta_t, sigma_scenarios[i])\n",
    "    \n",
    "    return option_price_scenarios"
   ]
  },
  {
   "cell_type": "code",
   "execution_count": 5,
   "id": "3329f768-001f-4a19-9e80-2863fdf13199",
   "metadata": {},
   "outputs": [
    {
     "data": {
      "text/plain": [
       "array([0.70392199, 0.60716434, 0.58722781, ..., 1.39278658, 1.15784622,\n",
       "       3.31510851])"
      ]
     },
     "execution_count": 5,
     "metadata": {},
     "output_type": "execute_result"
    }
   ],
   "source": [
    "x, y =  get_gamma_distributions(0.5, 2500, 1, 0.25)\n",
    "x"
   ]
  },
  {
   "cell_type": "code",
   "execution_count": 6,
   "id": "92d3cd27-b858-40fd-a69e-925e375f9335",
   "metadata": {},
   "outputs": [
    {
     "data": {
      "text/plain": [
       "array([1.3032068 , 3.55652647, 1.88983675, ..., 1.80622333, 0.88885883,\n",
       "       2.57651609])"
      ]
     },
     "execution_count": 6,
     "metadata": {},
     "output_type": "execute_result"
    }
   ],
   "source": [
    "y"
   ]
  },
  {
   "cell_type": "code",
   "execution_count": 7,
   "id": "b4488691-f755-4d20-a8c2-a18f7e8d374b",
   "metadata": {},
   "outputs": [
    {
     "data": {
      "text/plain": [
       "array([[1.        , 0.52103905],\n",
       "       [0.52103905, 1.        ]])"
      ]
     },
     "execution_count": 7,
     "metadata": {},
     "output_type": "execute_result"
    }
   ],
   "source": [
    "np.corrcoef(x,y)"
   ]
  },
  {
   "cell_type": "code",
   "execution_count": 8,
   "id": "c21fe091-e850-41ec-ab6e-e668a5c70e71",
   "metadata": {},
   "outputs": [
    {
     "data": {
      "text/plain": [
       "array([-3.51923869e-076,  1.97215226e-031, -1.27659428e-082, ...,\n",
       "       -1.05377645e-042, -2.11588983e-037, -1.22157941e-201])"
      ]
     },
     "execution_count": 8,
     "metadata": {},
     "output_type": "execute_result"
    }
   ],
   "source": [
    "prices = get_option_price_returns(x, y, 100, 100, 0.025, 1, 0.25)\n",
    "prices"
   ]
  },
  {
   "cell_type": "code",
   "execution_count": 9,
   "id": "dbb289d9-57c7-4390-8f94-c80a2d4363d1",
   "metadata": {},
   "outputs": [
    {
     "data": {
      "text/plain": [
       "[<matplotlib.lines.Line2D at 0x23e2b01f880>]"
      ]
     },
     "execution_count": 9,
     "metadata": {},
     "output_type": "execute_result"
    },
    {
     "data": {
      "image/png": "[encoded data removed]",
      "text/plain": [
       "<Figure size 432x288 with 1 Axes>"
      ]
     },
     "metadata": {
      "needs_background": "light"
     },
     "output_type": "display_data"
    }
   ],
   "source": [
    "plt.plot(prices)"
   ]
  },
  {
   "cell_type": "code",
   "execution_count": 10,
   "id": "e9311563-e221-4ee9-9647-2c3a59e8f3f1",
   "metadata": {},
   "outputs": [
    {
     "data": {
      "text/plain": [
       "-1.7763568394002505e-15"
      ]
     },
     "execution_count": 10,
     "metadata": {},
     "output_type": "execute_result"
    }
   ],
   "source": [
    "sorted_prices = np.sort(prices)\n",
    "q1 = sorted_prices.size*(1-0.99)\n",
    "VaR_99 = sorted_prices[int(q1)]\n",
    "VaR_99"
   ]
  },
  {
   "cell_type": "code",
   "execution_count": 11,
   "id": "fb23c77c-0de9-4736-80c5-107ba88bc36d",
   "metadata": {},
   "outputs": [
    {
     "data": {
      "text/plain": [
       "-4.476419235288631e-15"
      ]
     },
     "execution_count": 11,
     "metadata": {},
     "output_type": "execute_result"
    }
   ],
   "source": [
    "ES_99 = sorted_prices[:int(q1)].sum()/sorted_prices[:int(q1)].size\n",
    "ES_99"
   ]
  },
  {
   "cell_type": "code",
   "execution_count": 12,
   "id": "b885819b-05de-463d-a61b-c810234ba6f5",
   "metadata": {},
   "outputs": [
    {
     "data": {
      "text/plain": [
       "[<matplotlib.lines.Line2D at 0x23e6832f220>]"
      ]
     },
     "execution_count": 12,
     "metadata": {},
     "output_type": "execute_result"
    },
    {
     "data": {
      "image/png": "[encoded data removed]",
      "text/plain": [
       "<Figure size 432x288 with 1 Axes>"
      ]
     },
     "metadata": {
      "needs_background": "light"
     },
     "output_type": "display_data"
    }
   ],
   "source": [
    "plt.plot(sorted_prices)"
   ]
  },
  {
   "cell_type": "code",
   "execution_count": null,
   "id": "6a460f5c-cca3-4ecf-aef1-c9edba70cfa4",
   "metadata": {},
   "outputs": [],
   "source": []
  }
 ],
 "metadata": {
  "kernelspec": {
   "display_name": "Python 3 (ipykernel)",
   "language": "python",
   "name": "python3"
  },
  "language_info": {
   "codemirror_mode": {
    "name": "ipython",
    "version": 3
   },
   "file_extension": ".py",
   "mimetype": "text/x-python",
   "name": "python",
   "nbconvert_exporter": "python",
   "pygments_lexer": "ipython3",
   "version": "3.9.7"
  }
 },
 "nbformat": 4,
 "nbformat_minor": 5
}
